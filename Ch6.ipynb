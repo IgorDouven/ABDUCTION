{
 "cells": [
  {
   "cell_type": "code",
   "execution_count": null,
   "metadata": {},
   "outputs": [],
   "source": [
    "# parallel computing\n",
    "using Distributed\n",
    "addprocs(...) # set number depending on number of cores available on your computer"
   ]
  },
  {
   "cell_type": "code",
   "execution_count": null,
   "metadata": {},
   "outputs": [],
   "source": [
    "# needed packages\n",
    "@everywhere begin\n",
    "    using Distributions\n",
    "    using Bootstrap\n",
    "    using Statistics\n",
    "    using LinearAlgebra\n",
    "    using SharedArrays\n",
    "end\n",
    "\n",
    "using DataFrames\n",
    "using HypothesisTests\n",
    "using DelimitedFiles\n",
    "using StatsBase\n",
    "using Colors\n",
    "using Gadfly\n",
    "using Compose"
   ]
  },
  {
   "cell_type": "code",
   "execution_count": null,
   "metadata": {},
   "outputs": [],
   "source": [
    "# set parameters, define priors, etc.\n",
    "@everywhere begin\n",
    "    const numb_hyp = 11\n",
    "    const numb_toss = 500\n",
    "    const prior = fill(Float32(1/numb_hyp), numb_hyp)\n",
    "    const likelihood_heads = range(0f0, stop=1, length=numb_hyp)\n",
    "    const likelihood_tails = range(1f0, stop=0, length=numb_hyp)\n",
    "end"
   ]
  },
  {
   "cell_type": "code",
   "execution_count": null,
   "metadata": {},
   "outputs": [],
   "source": [
    "@everywhere datFunc(bias) = rand(Bernoulli(bias), numb_toss)"
   ]
  },
  {
   "cell_type": "code",
   "execution_count": null,
   "metadata": {},
   "outputs": [],
   "source": [
    "# Bayes' rule\n",
    "@everywhere function b_upd(probs::Array{Float32,1}, dat::Array{Bool,1}, toss_num::Int64)\n",
    "    if dat[toss_num] == true\n",
    "        @. (probs * likelihood_heads) / $dot(probs, likelihood_heads)\n",
    "    else\n",
    "        @. (probs * likelihood_tails) / $dot(probs, likelihood_tails)\n",
    "    end\n",
    "end"
   ]
  },
  {
   "cell_type": "code",
   "execution_count": null,
   "metadata": {},
   "outputs": [],
   "source": [
    "# EXPL\n",
    "@everywhere function expl_upd(probs::Array{Float32,1}, dat::Array{Bool,1}, toss_num::Int64, bonus::Float32=0.1)\n",
    "    val::Float32 = mean(dat[1:toss_num]) * 10 + 1\n",
    "    vec::Array{Float32,1} = if dat[toss_num] == true\n",
    "            @. (probs * likelihood_heads) / $dot(probs, likelihood_heads)\n",
    "        else\n",
    "            @. (probs * likelihood_tails) / $dot(probs, likelihood_tails)\n",
    "        end\n",
    "\n",
    "    if val % 1 == .5\n",
    "        vec[floor(Int64, val)] += .5*bonus\n",
    "        vec[ceil(Int64, val)] += .5*bonus\n",
    "    else\n",
    "        vec[round(Int64, val, RoundNearestTiesAway)] += bonus\n",
    "    end\n",
    "\n",
    "    return vec / (1 + bonus)\n",
    "end"
   ]
  },
  {
   "cell_type": "code",
   "execution_count": null,
   "metadata": {},
   "outputs": [],
   "source": [
    "# Good's rule\n",
    "@everywhere function good_bonus(probs::Array{Float32,1}, res::Bool, λ=2) # with λ=2, we obtain the rule L2 from Douven and Schupbach, Frontiers ...\n",
    "\n",
    "    pE::Float32 = res == true ? dot(probs, likelihood_heads) : dot(probs, likelihood_tails)\n",
    "    gb::Array{Float32,1} = res == true ? log.(likelihood_heads ./ pE) : log.(likelihood_tails ./ pE)\n",
    "\n",
    "    function rsc(i)\n",
    "        if i >= 0\n",
    "            1 - exp(2λ^2 * -i^2)\n",
    "        else\n",
    "            -1 + exp(2λ^2 * -i^2)\n",
    "        end\n",
    "    end\n",
    "\n",
    "    return map(rsc, gb)\n",
    "\n",
    "end\n",
    "\n",
    "@everywhere function good_upd(probs::Array{Float32,1}, dat::Array{Bool,1}, toss_num::Int64, γ::Float32=0.1)\n",
    "\n",
    "    res::Bool = dat[toss_num]\n",
    "\n",
    "    probvec::Array{Float32,1} = if res == true\n",
    "        @. (probs * likelihood_heads) / $dot(probs, likelihood_heads)\n",
    "    else\n",
    "        @. (probs * likelihood_tails) / $dot(probs, likelihood_tails)\n",
    "    end\n",
    "\n",
    "    goodvec::Array{Float32,1} = probvec + γ .* (probvec .* good_bonus(probs, res))\n",
    "\n",
    "    return goodvec / sum(goodvec)\n",
    "\n",
    "end"
   ]
  },
  {
   "cell_type": "code",
   "execution_count": null,
   "metadata": {},
   "outputs": [],
   "source": [
    "# Popper's rule\n",
    "@everywhere function pop_bonus(probs::Array{Float32,1}, res::Bool)\n",
    "\n",
    "    pE::Float32 = res == true ? dot(probs, likelihood_heads) : dot(probs, likelihood_tails)\n",
    "    pb::Array{Float32, 1} = res == true ? (likelihood_heads .- pE) ./ (likelihood_heads .+ pE) : (likelihood_tails .- pE) ./ (likelihood_tails .+ pE)\n",
    "\n",
    " end\n",
    "\n",
    "@everywhere function pop_upd(probs::Array{Float32,1}, dat::Array{Bool, 1}, toss_num::Int64, γ::Float32=0.1)\n",
    "\n",
    "    res::Bool = dat[toss_num]\n",
    "\n",
    "    probvec::Array{Float32,1} = if res == true\n",
    "        @. (probs * likelihood_heads) / $dot(probs, likelihood_heads)\n",
    "    else\n",
    "        @. (probs * likelihood_tails) / $dot(probs, likelihood_tails)\n",
    "    end\n",
    "\n",
    "    popvec::Array{Float32,1} = probvec + γ .* (probvec .* pop_bonus(probs, res))\n",
    "\n",
    "    return popvec / sum(popvec)\n",
    "\n",
    "end"
   ]
  },
  {
   "cell_type": "code",
   "execution_count": null,
   "metadata": {},
   "outputs": [],
   "source": [
    "@everywhere const numb_agents = 200\n",
    "@everywhere const numb_generations = 250"
   ]
  },
  {
   "cell_type": "code",
   "execution_count": null,
   "metadata": {},
   "outputs": [],
   "source": [
    "# starting position: 50 Bayesians, and 50 agents per other group (EXPL, Good's rule, Popper's rule), with varying values for c (varying between 0 and 0.25)\n",
    "groupID = repeat(1.0:4.0, inner=div(numb_agents, 4))\n",
    "population_start = vcat(fill(0, div(numb_agents, 4)), rand(Uniform(0, .25), 3*div(numb_agents, 4)))\n",
    "pop_start = Array{Float32,2}(hcat(groupID, population_start));"
   ]
  },
  {
   "cell_type": "code",
   "execution_count": null,
   "metadata": {},
   "outputs": [],
   "source": [
    "@everywhere function survWei(upds::Array{Float32,2}, # modeling probability of death, based on Weibull distribution\n",
    "                             hyp::Int64,\n",
    "                             a::Float64,\n",
    "                             b::Float64,\n",
    "                             shape::Float64=rand(Uniform(.5, 5)),\n",
    "                             scale::Float64=rand(Uniform(50, 250)),\n",
    "                             thresh::Float64=.9)\n",
    "\n",
    "    t = something(findfirst(upds .> thresh), (numb_toss, 0)) # where in the matrix with probability updates do we find the first value above thresh?\n",
    "    c = t[2]\n",
    "    p = t[1]\n",
    "\n",
    "    # cdf(Weibull(shape, scale), p) below gives the probability of death at the relevant time\n",
    "\n",
    "    if c == hyp\n",
    "        1 - (cdf(Weibull(shape, scale), p) / a) # probability goes down if right intervention is made (which is made when the truth is assigned a probability above thresh)\n",
    "    elseif c == 0\n",
    "        1 - cdf(Weibull(shape, scale), numb_toss + 1) # if no intervention is made, output survival probability at last time step\n",
    "    else\n",
    "        (1 - cdf(Weibull(shape, scale), p)) / b # probability goes down if wrong intervention is made (which happens if a false hypothesis is assigned a probabilty above thresh)\n",
    "    end\n",
    "end"
   ]
  },
  {
   "cell_type": "code",
   "execution_count": null,
   "metadata": {},
   "outputs": [],
   "source": [
    "@everywhere function survGam(upds::Array{Float32,2}, # modeling probability of death, based on Gamma distribution\n",
    "                             hyp::Int64,\n",
    "                             a::Float64,\n",
    "                             b::Float64,\n",
    "                             shape::Float64=rand(Uniform(10, 16)),\n",
    "                             scale::Float64=rand(Uniform(10, 16)),\n",
    "                             thresh::Float64=.9)\n",
    "\n",
    "    t = something(findfirst(upds .> thresh), (numb_toss, 0)) # where in the matrix with probability updates do we find the first value above thresh?\n",
    "    c = t[2]\n",
    "    p = t[1]\n",
    "\n",
    "    if c == hyp\n",
    "        1 - (cdf(Gamma(shape, scale), p) / a) # the probability goes down if the right intervention is made (and the right intervention is made if the truth is assigned a probability above thresh)\n",
    "    elseif c == 0\n",
    "        1 - cdf(Gamma(shape, scale), numb_toss + 1) # if no intervention is made, output survival probability at last time step\n",
    "    else\n",
    "        (1 - cdf(Gamma(shape, scale), p)) / b # the probability goes down if the wrong intervention is made (which happens if a false hypothesis is assigned a probabilty above thresh)\n",
    "    end\n",
    "end"
   ]
  },
  {
   "cell_type": "code",
   "execution_count": null,
   "metadata": {},
   "outputs": [],
   "source": [
    "@everywhere function patient(rule_index::Float32, c_value::Float32, dist::Function)\n",
    "\n",
    "    rand_hyp::Int64 = rand(1:11) # pick α hypothesis (\"what's wrong with the patient\")\n",
    "    right = rand(Uniform(1, 10)) # effect of right intervention\n",
    "    wrong = rand(Uniform(1, 10)) # effect of wrong intervention\n",
    "\n",
    "    data::Array{Bool,1} = datFunc((rand_hyp - 1) / (numb_hyp - 1)) # generate synthetic data for this pick (the test results for the patient)\n",
    "\n",
    "    updates = Array{Float32,2}(undef, numb_toss + 1, numb_hyp) # initialize array for probabilities\n",
    "\n",
    "    updates[1, :] = prior # set prior\n",
    "\n",
    "    if rule_index == 1.0f0\n",
    "        @inbounds for t in 1:numb_toss # generate updates\n",
    "            updates[t + 1, :] = b_upd(updates[t, :], data, t)\n",
    "        end\n",
    "    elseif rule_index == 2.0f0\n",
    "        @inbounds for t in 1:numb_toss # generate updates\n",
    "            updates[t + 1, :] = expl_upd(updates[t, :], data, t, c_value)\n",
    "        end\n",
    "    elseif rule_index == 3.0f0\n",
    "        @inbounds for t in 1:numb_toss # generate updates\n",
    "            updates[t + 1, :] = good_upd(updates[t, :], data, t, c_value)\n",
    "        end\n",
    "    else\n",
    "        @inbounds for t in 1:numb_toss # generate updates\n",
    "            updates[t + 1, :] = pop_upd(updates[t, :], data, t, c_value)\n",
    "        end\n",
    "    end\n",
    "\n",
    "    return dist(updates, rand_hyp, right, wrong)\n",
    "end"
   ]
  },
  {
   "cell_type": "code",
   "execution_count": null,
   "metadata": {},
   "outputs": [],
   "source": [
    "#= tests doctor on 100 patients and calculates average survival score obtained by doctor, so\n",
    "average probability that patients would survive =#\n",
    "@everywhere function avScore(rule_index::Float32, c_value::Float32, dist::Function)\n",
    "    tot = @distributed (+) for i in 1:100\n",
    "        patient(rule_index, c_value, dist)\n",
    "    end\n",
    "    return tot / 100\n",
    "end"
   ]
  },
  {
   "cell_type": "code",
   "execution_count": null,
   "metadata": {},
   "outputs": [],
   "source": [
    "#= tests all doctors in a population and selects the 50 percent fittest; outputs those\n",
    "as well as a copy of each of them =#\n",
    "function population_upd_rep(pop::Array{Float32,2}, dist::Function)\n",
    "    agent_scores = SharedArray{Float32,1}(numb_agents)\n",
    "    @sync @distributed for i in 1:numb_agents\n",
    "        @inbounds agent_scores[i] = avScore(pop[i, :]..., dist)\n",
    "    end\n",
    "    best_index = findall(agent_scores .>= Statistics.median(agent_scores))\n",
    "    best = pop[best_index[1:Int(numb_agents/2)], :]\n",
    "    return vcat(best, best), agent_scores\n",
    "end"
   ]
  },
  {
   "cell_type": "code",
   "execution_count": null,
   "metadata": {},
   "outputs": [],
   "source": [
    "run(`mkdir data`)"
   ]
  },
  {
   "cell_type": "code",
   "execution_count": null,
   "metadata": {},
   "outputs": [],
   "source": [
    "const numb_simulations = 50"
   ]
  },
  {
   "cell_type": "code",
   "execution_count": null,
   "metadata": {},
   "outputs": [],
   "source": [
    "function sim_run(dist::Function)\n",
    "    k = 1\n",
    "    while k < numb_simulations + 1\n",
    "        groupID = repeat(1.0:4.0, inner=div(numb_agents, 4))\n",
    "        population_start = vcat(fill(0, div(numb_agents, 4)), rand(Uniform(0, .25), 3*div(numb_agents, 4)))\n",
    "        pop_start = Array{Float32,2}(hcat(groupID, population_start))\n",
    "        pop_upd_c_a = Array{Float32,3}(undef, numb_agents, 2, numb_generations + 1)\n",
    "        pop_upd_f = Array{Float32,2}(undef, numb_agents, numb_generations + 1)\n",
    "        pop_upd_c_a[:, :, 1] = pop_start\n",
    "\n",
    "        @inbounds for i in 1:numb_generations\n",
    "            pop_upd_c_a[:, :, i + 1], pop_upd_f[:, i] = population_upd_rep(pop_upd_c_a[:, :, i], dist)\n",
    "        end\n",
    "\n",
    "        @inbounds for i in 1:numb_agents\n",
    "            pop_upd_f[i, numb_generations + 1] = avScore(pop_upd_c_a[i, 1:2, numb_generations + 1]..., dist)\n",
    "        end\n",
    "\n",
    "        res_a = Array{Int32,2}(undef, numb_agents, numb_generations + 1)\n",
    "        res_c = Array{Float32,2}(undef, numb_agents, numb_generations + 1)\n",
    "\n",
    "        @inbounds for i in 1:(numb_generations + 1)\n",
    "            res_a[:, i], res_c[:, i] = pop_upd_c_a[:, 1, i], pop_upd_c_a[:, 2, i]\n",
    "        end\n",
    "\n",
    "        writedlm(\"data/agent_type$k.txt\", res_a)\n",
    "        writedlm(\"data/c_value$k.txt\", res_c)\n",
    "        writedlm(\"data/fit$k.txt\", pop_upd_f)\n",
    "\n",
    "        population_start = nothing\n",
    "        pop_start = nothing\n",
    "        pop_upd_c_a = nothing\n",
    "        pop_upd_f = nothing\n",
    "        res_a = nothing\n",
    "        res_c = nothing\n",
    "        GC.gc()\n",
    "\n",
    "        k += 1\n",
    "    end\n",
    "end"
   ]
  },
  {
   "cell_type": "code",
   "execution_count": null,
   "metadata": {},
   "outputs": [],
   "source": [
    "sim_run(survWei) # or `sim_run(survGam)` for the Gamma environment"
   ]
  }
 ],
 "metadata": {
  "kernelspec": {
   "display_name": "Julia 1.5.3",
   "language": "julia",
   "name": "julia-1.5"
  },
  "language_info": {
   "file_extension": ".jl",
   "mimetype": "application/julia",
   "name": "julia",
   "version": "1.4.0"
  }
 },
 "nbformat": 4,
 "nbformat_minor": 4
}